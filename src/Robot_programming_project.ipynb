{
  "nbformat": 4,
  "nbformat_minor": 0,
  "metadata": {
    "colab": {
      "provenance": []
    },
    "kernelspec": {
      "name": "python3",
      "display_name": "Python 3"
    },
    "language_info": {
      "name": "python"
    }
  },
  "cells": [
    {
      "cell_type": "markdown",
      "source": [
        "##Проект по предмету \"Программирование роботов\"\n",
        "\n",
        "**Вартеванян Ольга Юрьевна**\n",
        "\n",
        "**Зимирев Илья Александрович**\n",
        "\n",
        "Группа:  R4136c\n",
        "\n",
        "\n",
        "---\n",
        "\n",
        "В самом начале устанавливаем и добавляем необходимые библиотеки"
      ],
      "metadata": {
        "id": "EXYZFAhrzGcZ"
      }
    },
    {
      "cell_type": "code",
      "source": [
        "!pip install gymnasium --quiet\n",
        "!pip install pygame --quiet\n",
        "!pip install numpy --quiet\n",
        "!pip install matplotlib --quiet\n",
        "\n",
        "import gymnasium as gym\n",
        "import numpy as np\n",
        "import matplotlib.pyplot as plt\n",
        "import math"
      ],
      "metadata": {
        "id": "ObIjIfsThSFY"
      },
      "execution_count": null,
      "outputs": []
    },
    {
      "cell_type": "markdown",
      "source": [
        "Задаём среду симуляции"
      ],
      "metadata": {
        "id": "rdQ32-Ws1roY"
      }
    },
    {
      "cell_type": "code",
      "execution_count": null,
      "metadata": {
        "colab": {
          "base_uri": "https://localhost:8080/"
        },
        "id": "tAkNacGqyxnb",
        "outputId": "e8fed402-9913-4c6f-84e5-f4783cd91f64"
      },
      "outputs": [
        {
          "output_type": "execute_result",
          "data": {
            "text/plain": [
              "(array([ 0.03354321,  0.04690383, -0.04804916,  0.03200018], dtype=float32),\n",
              " {})"
            ]
          },
          "metadata": {},
          "execution_count": 19
        }
      ],
      "source": [
        "env = gym.make(\"CartPole-v1\", render_mode=\"human\")\n",
        "env.reset()"
      ]
    },
    {
      "cell_type": "markdown",
      "source": [
        "Задаем гиперпараметры"
      ],
      "metadata": {
        "id": "-hxtCQGd2Lpg"
      }
    },
    {
      "cell_type": "code",
      "source": [
        "num_episodes = 500                           #количество эпизодов\n",
        "statistics_frequency = num_episodes // 20    #частота вывода статистики\n",
        "target_reward = 500                          #желаемое количество наград в среднем за statisics_frequency шагов"
      ],
      "metadata": {
        "id": "_CpuWD-t2OTL"
      },
      "execution_count": null,
      "outputs": []
    },
    {
      "cell_type": "markdown",
      "source": [
        "Параметры дискретизации пространства состояний"
      ],
      "metadata": {
        "id": "FPwgsPO_2U4Y"
      }
    },
    {
      "cell_type": "code",
      "source": [
        "min_alpha = 0.1         #минимальное значение альфы\n",
        "min_epsilon = 0.1       #минимальное значения эпсилона\n",
        "discounting = 1.0       #значение дисконтирования\n",
        "\n",
        "cart_pos_space = np.array([2.5])\n",
        "cart_vel_space = np.array([10.0])\n",
        "pole_ang_space = np.array([-0.336, -0.168, 0,  0.168, 0.326, 0.5])\n",
        "pole_vel_space = np.array([-0.8, -0.65, -0.5, -0.32, -0.16, 0.0, 0.16, 0.32, 0.5, 0.65, 0.8, 10.0])\n",
        "num_bins = [cart_pos_space.size, cart_vel_space.size, pole_ang_space.size, pole_vel_space.size]\n",
        "\n",
        "#инициализация q-table\n",
        "num_states = (num_bins[0], num_bins[1], num_bins[2], num_bins[3])\n",
        "num_actions = env.action_space.n\n",
        "q_values = np.zeros(num_states + (num_actions,))\n",
        "\n",
        "#доп переменные для статистики\n",
        "episode_rewards = []\n",
        "q_statistics = np.zeros(num_states)"
      ],
      "metadata": {
        "id": "8pK7u2UK2W15"
      },
      "execution_count": null,
      "outputs": []
    },
    {
      "cell_type": "markdown",
      "source": [
        "Функция дискретизации"
      ],
      "metadata": {
        "id": "adfhVE2G2YjV"
      }
    },
    {
      "cell_type": "code",
      "source": [
        "def discretize(observation):\n",
        "\n",
        "    cart_pos_ind = np.digitize(observation[0], cart_pos_space)\n",
        "    cart_vel_ind = np.digitize(observation[1], cart_vel_space)\n",
        "    pole_ang_ind = np.digitize(observation[2], pole_ang_space)\n",
        "    pole_vel_ind = np.digitize(observation[3], pole_vel_space)\n",
        "\n",
        "    return (cart_pos_ind, cart_vel_ind, pole_ang_ind, pole_vel_ind)"
      ],
      "metadata": {
        "id": "eTXXv41Z2mXw"
      },
      "execution_count": null,
      "outputs": []
    },
    {
      "cell_type": "markdown",
      "source": [
        "Функция выбора действия"
      ],
      "metadata": {
        "id": "S9U0OZUm2qe8"
      }
    },
    {
      "cell_type": "code",
      "source": [
        "#действие на основе эпсилон-жадного алгоритма\n",
        "def act(state, epsilon):\n",
        "\n",
        "    if np.random.uniform(0, 1) < epsilon:\n",
        "        return env.action_space.sample()\n",
        "    else:\n",
        "        return np.argmax(q_values[state[0], state[1], state[2], state[3]])"
      ],
      "metadata": {
        "id": "rbbEV7eH2se0"
      },
      "execution_count": null,
      "outputs": []
    },
    {
      "cell_type": "markdown",
      "source": [
        "Функция обновления Q"
      ],
      "metadata": {
        "id": "mPn8jVsd2ue3"
      }
    },
    {
      "cell_type": "code",
      "source": [
        "def update(state, action, new_observation):\n",
        "\n",
        "    new_state = discretize(new_observation)\n",
        "    old_q_value = q_values[state][action]\n",
        "    q_values[state][action] =  (1 - alpha) * old_q_value + alpha*(reward + discounting*np.max(q_values[new_state]))\n",
        "    state = new_state\n",
        "\n",
        "    return new_state, q_values"
      ],
      "metadata": {
        "id": "_0QrnHqE2xTc"
      },
      "execution_count": null,
      "outputs": []
    },
    {
      "cell_type": "markdown",
      "source": [
        "Функция вывода статистики"
      ],
      "metadata": {
        "id": "xREbyFl52yzu"
      }
    },
    {
      "cell_type": "code",
      "source": [
        "def learning_statistics(num, reward):\n",
        "\n",
        "    episode_rewards.append(reward)\n",
        "\n",
        "    #вывод статистики полученных наград\n",
        "    if num % (statistics_frequency) == 0:\n",
        "        avg_reward = np.mean(episode_rewards[-statistics_frequency:])\n",
        "        print(f'прогресс: {(num*100/num_episodes):.2f}% эпизодов, награда (ср. за {statistics_frequency} эп.): {avg_reward:.2f}')\n",
        "        #информация о достижении желаемого количества наград\n",
        "        if avg_reward >= target_reward:\n",
        "            print(f'максимальное количество наград (ср. за {statistics_frequency}) достигнуто на {num} эпизоде')"
      ],
      "metadata": {
        "id": "hU1aXUV-21En"
      },
      "execution_count": null,
      "outputs": []
    },
    {
      "cell_type": "markdown",
      "source": [
        "Функция построения графика"
      ],
      "metadata": {
        "id": "SVTw5UtU251m"
      }
    },
    {
      "cell_type": "code",
      "source": [
        "def graph(arr, x_lbl, y_lbl):\n",
        "\n",
        "    arr = np.array(arr)\n",
        "    fig = plt.figure()\n",
        "    axs = fig.add_subplot()\n",
        "    axs.plot(arr, color='magenta')\n",
        "    axs.grid()\n",
        "    font = {'style': 'italic','size': 10}\n",
        "    axs.set_xlabel(x_lbl, fontdict=font)\n",
        "    axs.set_ylabel(y_lbl, fontdict=font)\n",
        "    plt.style.use('dark_background')\n",
        "\n",
        "\n",
        "    plt.show()"
      ],
      "metadata": {
        "id": "hMThnMTP28wK"
      },
      "execution_count": null,
      "outputs": []
    },
    {
      "cell_type": "markdown",
      "source": [
        "Функция вывода статистики посещаемости состояний"
      ],
      "metadata": {
        "id": "NBTYB-aD2-bs"
      }
    },
    {
      "cell_type": "code",
      "source": [
        "def state_statistics(q_statistics, num_bins):\n",
        "    count0 = 0\n",
        "    count1 = 0\n",
        "    count2 = 0\n",
        "    count3 = 0\n",
        "    for i in range(num_bins[0]):\n",
        "        for j in range(num_bins[1]):\n",
        "            for k in range(num_bins[2]):\n",
        "                for l in range(num_bins[3]):\n",
        "                    if q_statistics[i][j][k][l] == 0: count0 += 1\n",
        "                    if q_statistics[i][j][k][l] == 1: count1 += 1\n",
        "                    if q_statistics[i][j][k][l] == 2: count2 += 1\n",
        "                    if q_statistics[i][j][k][l]  > 2: count3 += 1\n",
        "\n",
        "    percent_count0 = count0*100/(num_bins[0]*num_bins[1]*num_bins[2]*num_bins[3])\n",
        "    percent_count1 = count1*100/(num_bins[0]*num_bins[1]*num_bins[2]*num_bins[3])\n",
        "    percent_count2 = count2*100/(num_bins[0]*num_bins[1]*num_bins[2]*num_bins[3])\n",
        "    percent_count3 = count3*100/(num_bins[0]*num_bins[1]*num_bins[2]*num_bins[3])\n",
        "\n",
        "    print(\"\\n\")\n",
        "    print(f\"количество непосещенных состояний: {count0}, {percent_count0:.2f}%\")\n",
        "    print(f\"количество посещенный 1 раз состояний: {count1}, {percent_count1:.2f}%\")\n",
        "    print(f\"количество посещенный 2 раза состояний: {count2}, {percent_count2:.2f}%\")\n",
        "    print(f\"количество посещенных больше двух раз состояний: {count3}, {percent_count3:.2f}%\")\n",
        "    print(\"\\n\")"
      ],
      "metadata": {
        "id": "XH-MeIbn3AjW"
      },
      "execution_count": null,
      "outputs": []
    },
    {
      "cell_type": "markdown",
      "source": [
        "Цикл обучения"
      ],
      "metadata": {
        "id": "sGC864Xr3BJa"
      }
    },
    {
      "cell_type": "code",
      "source": [
        "for episode in range(num_episodes):\n",
        "\n",
        "    observation, info = env.reset()\n",
        "    state = discretize(observation)\n",
        "    episode_reward = 0\n",
        "    done = False\n",
        "\n",
        "    #уменьшение параметров с течением эпизодов\n",
        "    epsilon = max(min_epsilon, min(1, 1.0 - math.log10((episode + 1) / 25)))\n",
        "    alpha = max(min_alpha, min(1, 1.0 - math.log10((episode + 1) / 25)))\n",
        "\n",
        "\n",
        "    #обновление окружения от действий агента\n",
        "    while not done:\n",
        "        q_statistics[state] += 1\n",
        "        action = act(state, epsilon)\n",
        "        new_observation, reward, terminated, truncated, info = env.step(action)\n",
        "\n",
        "        #if abs(new_observation[0])>2.4: print(\"тележка\")\n",
        "        #if abs(new_observation[2])>0.2095: print(\"угол\")\n",
        "\n",
        "        state, q_values = update(state, action, new_observation)\n",
        "        episode_reward += reward\n",
        "        done = terminated or truncated\n",
        "\n",
        "    #вывод статистики\n",
        "    learning_statistics(episode, episode_reward)"
      ],
      "metadata": {
        "colab": {
          "base_uri": "https://localhost:8080/"
        },
        "id": "bdGovmB03DXF",
        "outputId": "7e9c7473-5a7e-4393-a41a-77082edd4bca"
      },
      "execution_count": null,
      "outputs": [
        {
          "output_type": "stream",
          "name": "stdout",
          "text": [
            "прогресс: 0.00% эпизодов, награда (ср. за 25 эп.): 22.00\n",
            "прогресс: 5.00% эпизодов, награда (ср. за 25 эп.): 21.32\n",
            "прогресс: 10.00% эпизодов, награда (ср. за 25 эп.): 28.20\n",
            "прогресс: 15.00% эпизодов, награда (ср. за 25 эп.): 29.16\n",
            "прогресс: 20.00% эпизодов, награда (ср. за 25 эп.): 35.52\n",
            "прогресс: 25.00% эпизодов, награда (ср. за 25 эп.): 111.08\n",
            "прогресс: 30.00% эпизодов, награда (ср. за 25 эп.): 213.40\n",
            "прогресс: 35.00% эпизодов, награда (ср. за 25 эп.): 436.92\n",
            "прогресс: 40.00% эпизодов, награда (ср. за 25 эп.): 497.76\n",
            "прогресс: 45.00% эпизодов, награда (ср. за 25 эп.): 488.72\n",
            "прогресс: 50.00% эпизодов, награда (ср. за 25 эп.): 493.56\n",
            "прогресс: 55.00% эпизодов, награда (ср. за 25 эп.): 500.00\n",
            "максимальное количество наград (ср. за 25) достигнуто на 275 эпизоде\n",
            "прогресс: 60.00% эпизодов, награда (ср. за 25 эп.): 495.40\n",
            "прогресс: 65.00% эпизодов, награда (ср. за 25 эп.): 496.24\n",
            "прогресс: 70.00% эпизодов, награда (ср. за 25 эп.): 496.28\n",
            "прогресс: 75.00% эпизодов, награда (ср. за 25 эп.): 496.92\n",
            "прогресс: 80.00% эпизодов, награда (ср. за 25 эп.): 494.16\n",
            "прогресс: 85.00% эпизодов, награда (ср. за 25 эп.): 499.20\n",
            "прогресс: 90.00% эпизодов, награда (ср. за 25 эп.): 497.88\n",
            "прогресс: 95.00% эпизодов, награда (ср. за 25 эп.): 500.00\n",
            "максимальное количество наград (ср. за 25) достигнуто на 475 эпизоде\n"
          ]
        }
      ]
    },
    {
      "cell_type": "markdown",
      "source": [
        "Результаты"
      ],
      "metadata": {
        "id": "MMOXGD0o3FoY"
      }
    },
    {
      "cell_type": "code",
      "source": [
        "#вывод статистики по состояниям\n",
        "state_statistics(q_statistics, num_bins)\n",
        "\n",
        "#вывод графика обучения\n",
        "graph(episode_rewards, \"эпизод\", \"награда за эпизод\")\n",
        "\n",
        "#закрытие окружения\n",
        "env.close()"
      ],
      "metadata": {
        "colab": {
          "base_uri": "https://localhost:8080/",
          "height": 588
        },
        "id": "mM8UtVY63Iar",
        "outputId": "0e866679-f966-4482-fde7-6a0a133a207e"
      },
      "execution_count": null,
      "outputs": [
        {
          "output_type": "stream",
          "name": "stdout",
          "text": [
            "\n",
            "\n",
            "количество непосещенных состояний: 30, 41.67%\n",
            "количество посещенный 1 раз состояний: 2, 2.78%\n",
            "количество посещенный 2 раза состояний: 1, 1.39%\n",
            "количество посещенных больше двух раз состояний: 39, 54.17%\n",
            "\n",
            "\n"
          ]
        },
        {
          "output_type": "display_data",
          "data": {
            "text/plain": [
              "<Figure size 640x480 with 1 Axes>"
            ],
            "image/png": "[encoded data removed]"
          },
          "metadata": {}
        }
      ]
    }
  ]
}